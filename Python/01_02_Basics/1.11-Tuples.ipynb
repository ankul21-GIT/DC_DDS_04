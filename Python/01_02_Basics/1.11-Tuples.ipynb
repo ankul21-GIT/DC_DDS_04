{
 "cells": [
  {
   "cell_type": "code",
   "execution_count": 2,
   "id": "86ec4900",
   "metadata": {},
   "outputs": [],
   "source": [
    "my_tuple = (\"Adhd\",2,5,7,8)\n",
    "\n",
    "my_tuple  =tuple([1,2,3,45])"
   ]
  },
  {
   "cell_type": "code",
   "execution_count": 3,
   "id": "a5a52663",
   "metadata": {},
   "outputs": [
    {
     "data": {
      "text/plain": [
       "tuple"
      ]
     },
     "execution_count": 3,
     "metadata": {},
     "output_type": "execute_result"
    }
   ],
   "source": [
    "type(my_tuple)"
   ]
  },
  {
   "cell_type": "code",
   "execution_count": 4,
   "id": "d021d503",
   "metadata": {},
   "outputs": [
    {
     "data": {
      "text/plain": [
       "(1, 2, 3, 45)"
      ]
     },
     "execution_count": 4,
     "metadata": {},
     "output_type": "execute_result"
    }
   ],
   "source": [
    "my_tuple"
   ]
  },
  {
   "cell_type": "code",
   "execution_count": 1,
   "id": "99289b03",
   "metadata": {},
   "outputs": [],
   "source": [
    "# What is the difference between list and tuple ?"
   ]
  },
  {
   "cell_type": "code",
   "execution_count": 2,
   "id": "273762a0",
   "metadata": {},
   "outputs": [],
   "source": [
    "# List are mutable but tuples are immutable, meaning once the tuple is created u can't change it."
   ]
  },
  {
   "cell_type": "code",
   "execution_count": null,
   "id": "8f8982af",
   "metadata": {},
   "outputs": [],
   "source": [
    "tuple_1 = (\"Amit\",2,5,7, [1,2,3], ('',0,True), 2,5,7)"
   ]
  },
  {
   "cell_type": "code",
   "execution_count": 4,
   "id": "4f44d30c",
   "metadata": {},
   "outputs": [
    {
     "data": {
      "text/plain": [
       "9"
      ]
     },
     "execution_count": 4,
     "metadata": {},
     "output_type": "execute_result"
    }
   ],
   "source": [
    "len(tuple_1)"
   ]
  },
  {
   "cell_type": "code",
   "execution_count": 7,
   "id": "d5f23148",
   "metadata": {},
   "outputs": [
    {
     "data": {
      "text/plain": [
       "[1, 2, 3]"
      ]
     },
     "execution_count": 7,
     "metadata": {},
     "output_type": "execute_result"
    }
   ],
   "source": [
    "tuple_1[4]"
   ]
  },
  {
   "cell_type": "code",
   "execution_count": 9,
   "id": "6fe12631",
   "metadata": {},
   "outputs": [
    {
     "data": {
      "text/plain": [
       "2"
      ]
     },
     "execution_count": 9,
     "metadata": {},
     "output_type": "execute_result"
    }
   ],
   "source": [
    "tuple_1[4][1]"
   ]
  },
  {
   "cell_type": "code",
   "execution_count": 10,
   "id": "d9450b86",
   "metadata": {},
   "outputs": [
    {
     "data": {
      "text/plain": [
       "1"
      ]
     },
     "execution_count": 10,
     "metadata": {},
     "output_type": "execute_result"
    }
   ],
   "source": [
    "tuple_1[4][0]"
   ]
  },
  {
   "cell_type": "code",
   "execution_count": 11,
   "id": "0435b388",
   "metadata": {},
   "outputs": [
    {
     "data": {
      "text/plain": [
       "1"
      ]
     },
     "execution_count": 11,
     "metadata": {},
     "output_type": "execute_result"
    }
   ],
   "source": [
    "tuple_1[4][-3]"
   ]
  },
  {
   "cell_type": "code",
   "execution_count": 12,
   "id": "166119d0",
   "metadata": {},
   "outputs": [
    {
     "data": {
      "text/plain": [
       "([1, 2, 3], ('', 0, True))"
      ]
     },
     "execution_count": 12,
     "metadata": {},
     "output_type": "execute_result"
    }
   ],
   "source": [
    "tuple_1[4:6]"
   ]
  },
  {
   "cell_type": "code",
   "execution_count": 13,
   "id": "5b331194",
   "metadata": {},
   "outputs": [],
   "source": [
    "tuple_2 = ('Kiwi','banana',\"Mango\")"
   ]
  },
  {
   "cell_type": "code",
   "execution_count": 14,
   "id": "113b9fe8",
   "metadata": {},
   "outputs": [
    {
     "ename": "TypeError",
     "evalue": "'tuple' object does not support item assignment",
     "output_type": "error",
     "traceback": [
      "\u001b[31m---------------------------------------------------------------------------\u001b[39m",
      "\u001b[31mTypeError\u001b[39m                                 Traceback (most recent call last)",
      "\u001b[36mCell\u001b[39m\u001b[36m \u001b[39m\u001b[32mIn[14]\u001b[39m\u001b[32m, line 1\u001b[39m\n\u001b[32m----> \u001b[39m\u001b[32m1\u001b[39m \u001b[43mtuple_2\u001b[49m\u001b[43m[\u001b[49m\u001b[32;43m1\u001b[39;49m\u001b[43m]\u001b[49m = \u001b[33m'\u001b[39m\u001b[33mapple\u001b[39m\u001b[33m'\u001b[39m\n",
      "\u001b[31mTypeError\u001b[39m: 'tuple' object does not support item assignment"
     ]
    }
   ],
   "source": [
    "tuple_2[1] = 'apple'"
   ]
  },
  {
   "cell_type": "code",
   "execution_count": 18,
   "id": "2b856b80",
   "metadata": {},
   "outputs": [],
   "source": [
    "tuple_2 = list(tuple_2)"
   ]
  },
  {
   "cell_type": "code",
   "execution_count": 19,
   "id": "d4217a67",
   "metadata": {},
   "outputs": [
    {
     "data": {
      "text/plain": [
       "('Kiwi', 'apple', 'Mango')"
      ]
     },
     "execution_count": 19,
     "metadata": {},
     "output_type": "execute_result"
    }
   ],
   "source": [
    "tuple_2[1] = 'apple'\n",
    "\n",
    "tuple_2 = tuple(tuple_2)\n",
    "\n",
    "tuple_2"
   ]
  },
  {
   "cell_type": "code",
   "execution_count": 20,
   "id": "050b61a0",
   "metadata": {},
   "outputs": [
    {
     "ename": "TypeError",
     "evalue": "'tuple' object doesn't support item deletion",
     "output_type": "error",
     "traceback": [
      "\u001b[31m---------------------------------------------------------------------------\u001b[39m",
      "\u001b[31mTypeError\u001b[39m                                 Traceback (most recent call last)",
      "\u001b[36mCell\u001b[39m\u001b[36m \u001b[39m\u001b[32mIn[20]\u001b[39m\u001b[32m, line 1\u001b[39m\n\u001b[32m----> \u001b[39m\u001b[32m1\u001b[39m \u001b[38;5;28;01mdel\u001b[39;00m \u001b[43mtuple_2\u001b[49m\u001b[43m[\u001b[49m\u001b[32;43m0\u001b[39;49m\u001b[43m]\u001b[49m\n",
      "\u001b[31mTypeError\u001b[39m: 'tuple' object doesn't support item deletion"
     ]
    }
   ],
   "source": [
    "del tuple_2[0]"
   ]
  },
  {
   "cell_type": "code",
   "execution_count": 21,
   "id": "90813535",
   "metadata": {},
   "outputs": [],
   "source": [
    "del tuple_2"
   ]
  },
  {
   "cell_type": "code",
   "execution_count": 24,
   "id": "1d3b1628",
   "metadata": {},
   "outputs": [
    {
     "name": "stdout",
     "output_type": "stream",
     "text": [
      "apple\n",
      "banana\n",
      "cherry\n"
     ]
    }
   ],
   "source": [
    "fruits = (\"apple\", \"banana\", \"cherry\", \"Brinjal\")\n",
    "\n",
    "(green, yellow, red, purple) = fruits\n",
    "\n",
    "print(green)\n",
    "print(yellow)\n",
    "print(red)"
   ]
  },
  {
   "cell_type": "code",
   "execution_count": 26,
   "id": "e3c08022",
   "metadata": {},
   "outputs": [
    {
     "name": "stdout",
     "output_type": "stream",
     "text": [
      "apple\n",
      "banana\n",
      "cherry\n",
      "Brinjal\n"
     ]
    }
   ],
   "source": [
    "for i in fruits:\n",
    "    print(i)"
   ]
  },
  {
   "cell_type": "code",
   "execution_count": 27,
   "id": "5bf9f23f",
   "metadata": {},
   "outputs": [
    {
     "name": "stdout",
     "output_type": "stream",
     "text": [
      "('apple', 'banana', 'cherry', 'apple', 'banana', 'cherry')\n"
     ]
    }
   ],
   "source": [
    "fruits = (\"apple\", \"banana\", \"cherry\")\n",
    "mytuple = fruits * 2\n",
    "\n",
    "print(mytuple)"
   ]
  },
  {
   "cell_type": "code",
   "execution_count": null,
   "id": "e3ab63cc",
   "metadata": {},
   "outputs": [],
   "source": [
    "this_set = {\"apple\", \"banana\", \"cherry\"}\n",
    "print(thisset)\n"
   ]
  }
 ],
 "metadata": {
  "kernelspec": {
   "display_name": "Python 3",
   "language": "python",
   "name": "python3"
  },
  "language_info": {
   "codemirror_mode": {
    "name": "ipython",
    "version": 3
   },
   "file_extension": ".py",
   "mimetype": "text/x-python",
   "name": "python",
   "nbconvert_exporter": "python",
   "pygments_lexer": "ipython3",
   "version": "3.12.0"
  }
 },
 "nbformat": 4,
 "nbformat_minor": 5
}
