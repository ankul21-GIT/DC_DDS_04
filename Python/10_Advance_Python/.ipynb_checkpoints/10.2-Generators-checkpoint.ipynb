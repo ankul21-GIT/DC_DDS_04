{
 "cells": [
  {
   "cell_type": "markdown",
   "metadata": {},
   "source": [
    "#### Generators\n",
    "\n",
    "Generators are a simpler way to create iterators. They use the yield keyword to produce a series of values lazily, which means they generate values on the fly and do not store them in memory.\n"
   ]
  },
  {
   "cell_type": "code",
   "execution_count": 19,
   "metadata": {},
   "outputs": [],
   "source": [
    "def square(n):\n",
    "    for i in range(6):\n",
    "        yield i**2"
   ]
  },
  {
   "cell_type": "code",
   "execution_count": 20,
   "metadata": {},
   "outputs": [
    {
     "data": {
      "text/plain": [
       "<generator object square at 0x000001EB7CCAB920>"
      ]
     },
     "execution_count": 20,
     "metadata": {},
     "output_type": "execute_result"
    }
   ],
   "source": [
    "square(6)"
   ]
  },
  {
   "cell_type": "code",
   "execution_count": 21,
   "metadata": {},
   "outputs": [
    {
     "name": "stdout",
     "output_type": "stream",
     "text": [
      "0\n",
      "1\n",
      "4\n",
      "9\n",
      "16\n",
      "25\n"
     ]
    }
   ],
   "source": [
    "for i in square(6):\n",
    "    print(i)"
   ]
  },
  {
   "cell_type": "code",
   "execution_count": 22,
   "metadata": {},
   "outputs": [
    {
     "data": {
      "text/plain": [
       "<generator object square at 0x000001EB7CFD0190>"
      ]
     },
     "execution_count": 22,
     "metadata": {},
     "output_type": "execute_result"
    }
   ],
   "source": [
    "a=square(6)\n",
    "a"
   ]
  },
  {
   "cell_type": "code",
   "execution_count": 23,
   "metadata": {},
   "outputs": [
    {
     "data": {
      "text/plain": [
       "0"
      ]
     },
     "execution_count": 23,
     "metadata": {},
     "output_type": "execute_result"
    }
   ],
   "source": [
    "next(a)"
   ]
  },
  {
   "cell_type": "code",
   "execution_count": 29,
   "metadata": {},
   "outputs": [
    {
     "ename": "StopIteration",
     "evalue": "",
     "output_type": "error",
     "traceback": [
      "\u001b[1;31m---------------------------------------------------------------------------\u001b[0m",
      "\u001b[1;31mStopIteration\u001b[0m                             Traceback (most recent call last)",
      "Cell \u001b[1;32mIn[29], line 1\u001b[0m\n\u001b[1;32m----> 1\u001b[0m \u001b[38;5;28;43mnext\u001b[39;49m\u001b[43m(\u001b[49m\u001b[43ma\u001b[49m\u001b[43m)\u001b[49m\n",
      "\u001b[1;31mStopIteration\u001b[0m: "
     ]
    }
   ],
   "source": [
    "next(a)"
   ]
  },
  {
   "cell_type": "code",
   "execution_count": 38,
   "metadata": {},
   "outputs": [],
   "source": [
    "def my_generator():\n",
    "    yield 1\n",
    "    yield 2\n",
    "    yield 3"
   ]
  },
  {
   "cell_type": "code",
   "execution_count": 39,
   "metadata": {},
   "outputs": [
    {
     "data": {
      "text/plain": [
       "<generator object my_generator at 0x000001EB7CFD10E0>"
      ]
     },
     "execution_count": 39,
     "metadata": {},
     "output_type": "execute_result"
    }
   ],
   "source": [
    "gen=my_generator()\n",
    "gen"
   ]
  },
  {
   "cell_type": "code",
   "execution_count": 40,
   "metadata": {},
   "outputs": [
    {
     "data": {
      "text/plain": [
       "1"
      ]
     },
     "execution_count": 40,
     "metadata": {},
     "output_type": "execute_result"
    }
   ],
   "source": [
    "next(gen)"
   ]
  },
  {
   "cell_type": "code",
   "execution_count": 41,
   "metadata": {},
   "outputs": [
    {
     "name": "stdout",
     "output_type": "stream",
     "text": [
      "2\n",
      "3\n"
     ]
    }
   ],
   "source": [
    "for val in gen:\n",
    "    print(val)"
   ]
  },
  {
   "cell_type": "markdown",
   "metadata": {},
   "source": [
    "#### Practical Example: Reading Large Files\n",
    "\n",
    "Generators are particularly useful for reading large files because they allow you to process one line at a time without loading the entire file into memory.\n"
   ]
  },
  {
   "cell_type": "code",
   "execution_count": 48,
   "metadata": {},
   "outputs": [],
   "source": [
    "### Practical : Reading LArge Files\n",
    "\n",
    "def read_large_file(file_path):\n",
    "    with open(file_path,'r',encoding='utf-8') as file:\n",
    "        for line in file:\n",
    "            yield line"
   ]
  },
  {
   "cell_type": "code",
   "execution_count": 49,
   "metadata": {},
   "outputs": [
    {
     "name": "stdout",
     "output_type": "stream",
     "text": [
      "Smt. Droupadi Murmu was sworn in as the 15th President of India on 25 July, 2022. Previously, she was the Governor of Jharkhand from 2015 to 2021. She has devoted her life to empowering the downtrodden and the marginalised sections and deepening the democratic values.\n",
      "\n",
      "Early Life and Education\n",
      "\n",
      "Born in a Santhali tribal family on 20 June, 1958 at Uparbeda village, Mayurbhanj, Odisha, Smt. Murmu’s early life was marked by hardships and struggle. On completion of primary education from the village school, she went to Bhubaneswar on her own initiative to continue her studies. She earned the degree of Bachelor of Arts from Ramadevi Women’s College, Bhubaneswar and became the first woman from her village to receive college education.\n",
      "\n",
      "Professional Career\n",
      "\n",
      "From 1979 to 1983, Smt. Murmu served as a Junior Assistant in the Irrigation and Power Department, Government of Odisha. Later, she served as an honorary teacher at Sri Aurobindo Integral Education Centre, Rairangpur, from 1994 to 1997.\n",
      "\n",
      "Public Life\n",
      "\n",
      "In 2000, Smt. Murmu was elected from the Rairangpur constituency as a Member of the Legislative Assembly of Odisha and continued to hold the post till 2009, serving two terms. During this period, she served as Minister of State (Independent Charge), Department of Commerce and Transport in the Government of Odisha from March 6, 2000 to August 6, 2002 and as Minister of State (Independent Charge), Department of Fisheries and Animal Resources Development, Government of Odisha from Augu\n"
     ]
    }
   ],
   "source": [
    "file_path='large_file.txt'\n",
    "\n",
    "for line in read_large_file(file_path):\n",
    "    print(line.strip())"
   ]
  },
  {
   "cell_type": "code",
   "execution_count": null,
   "metadata": {},
   "outputs": [],
   "source": [
    "def read_large_file(file_path):\n",
    "    with open(file_path,'r',encoding='utf-16') as file:\n",
    "        for line in file:\n",
    "            yield line"
   ]
  },
  {
   "cell_type": "code",
   "execution_count": 47,
   "metadata": {},
   "outputs": [
    {
     "name": "stdout",
     "output_type": "stream",
     "text": [
      "\n",
      "\n",
      "Directory: D:\\lms\\client\n",
      "\n",
      "\n",
      "Mode                 LastWriteTime         Length Name\n",
      "----                 -------------         ------ ----\n",
      "d-----        16-03-2025     15:25                dist\n",
      "d-----        23-03-2025     22:17                node_modules\n",
      "d-----        28-01-2025     15:59                public\n",
      "d-----        25-03-2025     14:02                src\n",
      "-a----        28-01-2025     14:28            253 .gitignore\n",
      "-a----        28-01-2025     16:42            442 components.json\n",
      "-a----        28-01-2025     14:28           1003 eslint.config.js\n",
      "-a----        27-03-2025     12:04              0 frontend.txt\n",
      "-a----        20-03-2025     20:25            363 index.html\n",
      "-a----        28-01-2025     16:04            105 jsconfig.json\n",
      "-a----        23-03-2025     22:17         282069 package-lock.json\n",
      "-a----        23-03-2025     22:17           2095 package.json\n",
      "-a----        28-01-2025     14:28            451 README.md\n",
      "-a----        22-03-2025     00:54           1827 tailwind.config.js\n",
      "-a----        16-03-2025     15:28           1115 vite.config.js\n",
      "\n",
      "\n",
      "Directory: D:\\lms\\client\\dist\n",
      "\n",
      "\n",
      "Mode                 LastWriteTime         Length Name\n",
      "----                 -------------         ------ ----\n",
      "d-----        16-03-2025     15:25                assets\n",
      "-a----        16-03-2025     15:25            459 index.html\n",
      "-a----        28-01-2025     14:28           1497 vite.svg\n",
      "\n",
      "\n",
      "Directory: D:\\lms\\client\\dist\\assets\n",
      "\n",
      "\n",
      "Mode                 LastWriteTime         Length Name\n",
      "----                 -------------         ------ ----\n",
      "-a----        16-03-2025     15:25          59264 index-Bf2D5YjT.css\n",
      "-a----        16-03-2025     15:25         800090 index-Dhl0vM8J.js\n",
      "\n",
      "\n",
      "Directory: D:\\lms\\client\\public\n",
      "\n",
      "\n",
      "Mode                 LastWriteTime         Length Name\n",
      "----                 -------------         ------ ----\n",
      "-a----        28-01-2025     14:28           1497 vite.svg\n",
      "\n",
      "\n",
      "Directory: D:\\lms\\client\\src\n",
      "\n",
      "\n",
      "Mode                 LastWriteTime         Length Name\n",
      "----                 -------------         ------ ----\n",
      "d-----        27-03-2025     11:21                app\n",
      "d-----        28-01-2025     15:59                assets\n",
      "d-----        27-03-2025     11:07                components\n",
      "d-----        20-02-2025     13:17                features\n",
      "d-----        26-03-2025     18:30                layout\n",
      "d-----        28-01-2025     16:42                lib\n",
      "d-----        25-03-2025     14:08                pages\n",
      "d-----        25-03-2025     14:03                services\n",
      "-a----        29-01-2025     15:02              0 App.css\n",
      "-a----        27-03-2025     11:19           4044 App.jsx\n",
      "-a----        22-03-2025     10:36           2300 DarkMode.jsx\n",
      "-a----        02-03-2025     14:19           1933 index.css\n",
      "-a----        27-03-2025     11:42            777 main.jsx\n",
      "\n",
      "\n",
      "Directory: D:\\lms\\client\\src\\app\n",
      "\n",
      "\n",
      "Mode                 LastWriteTime         Length Name\n",
      "----                 -------------         ------ ----\n",
      "-a----        23-03-2025     19:36            808 rootReducer.js\n",
      "-a----        25-03-2025     13:45           1490 store.js\n",
      "\n",
      "\n",
      "Directory: D:\\lms\\client\\src\\assets\n",
      "\n",
      "\n",
      "Mode                 LastWriteTime         Length Name\n",
      "----                 -------------         ------ ----\n",
      "-a----        28-01-2025     14:28           4126 react.svg\n",
      "\n",
      "\n",
      "Directory: D:\\lms\\client\\src\\components\n",
      "\n",
      "\n",
      "Mode                 LastWriteTime         Length Name\n",
      "----                 -------------         ------ ----\n",
      "d-----        23-03-2025     20:06                ui\n",
      "-a----        16-03-2025     12:06           1558 BuyCourseButton.jsx\n",
      "-a----        27-03-2025     11:07            667 CardComponent.jsx\n",
      "-a----        24-03-2025     14:40           3688 DateTimePicker.jsx\n",
      "-a----        11-02-2025     10:37            432 LoadingSpinner.jsx\n",
      "-a----        22-03-2025     13:15           7866 Navbar.jsx\n",
      "-a----        24-03-2025     18:00            648 NotificationPopup.jsx\n",
      "-a----        22-03-2025     00:05            819 ProtectedRoutes.jsx\n",
      "-a----        22-03-2025     00:35            524 PurchaseCourseProtectedRoute.jsx\n",
      "-a----        13-02-2025     14:51            440 RichTextEditor.jsx\n",
      "-a----        22-03-2025     00:53           1786 ThemeProvider.jsx\n",
      "-a----        24-03-2025     17:32           6170 ZoomMeetingForm.jsx\n",
      "\n",
      "\n",
      "Directory: D:\\lms\\client\\src\\components\\ui\n",
      "\n",
      "\n",
      "Mode                 LastWriteTime         Length Name\n",
      "----                 -------------         ------ ----\n",
      "-a----        04-02-2025     15:03           1062 avatar.jsx\n",
      "-a----        08-02-2025     13:14           1024 badge.jsx\n",
      "-a----        23-03-2025     20:06           2057 button.jsx\n",
      "-a----        23-03-2025     19:59           2937 calendar.jsx\n",
      "-a----        29-01-2025     15:23           1490 card.jsx\n",
      "-a----        18-03-2025     16:26           1178 checkbox.jsx\n",
      "-a----        08-02-2025     15:03           3308 dialog.jsx\n",
      "-a----        04-02-2025     13:57           6313 dropdown-menu.jsx\n",
      "-a----        29-01-2025     15:23            709 input.jsx\n",
      "-a----        29-01-2025     15:23            557 label.jsx\n",
      "-a----        23-03-2025     20:06           1450 popover.jsx\n",
      "-a----        27-02-2025     16:16            692 progress.jsx\n",
      "-a----        23-03-2025     20:19           5719 select.jsx\n",
      "-a----        11-03-2025     05:17            660 separator.jsx\n",
      "-a----        05-02-2025     11:02           3643 sheet.jsx\n",
      "-a----        05-02-2025     23:03            241 skeleton.jsx\n",
      "-a----        05-02-2025     21:38            813 sonner.jsx\n",
      "-a----        26-02-2025     11:19            990 switch.jsx\n",
      "-a----        11-02-2025     15:17           2317 table.jsx\n",
      "-a----        29-01-2025     15:23           1570 tabs.jsx\n",
      "\n",
      "\n",
      "Directory: D:\\lms\\client\\src\\features\n",
      "\n",
      "\n",
      "Mode                 LastWriteTime         Length Name\n",
      "----                 -------------         ------ ----\n",
      "d-----        25-03-2025     13:33                api\n",
      "-a----        01-02-2025     15:34            556 authSlice.js\n",
      "-a----        20-02-2025     13:17              0 courseSlice.js\n",
      "\n",
      "\n",
      "Directory: D:\\lms\\client\\src\\features\\api\n",
      "\n",
      "\n",
      "Mode                 LastWriteTime         Length Name\n",
      "----                 -------------         ------ ----\n",
      "-a----        25-03-2025     13:38           2784 authApi.js\n",
      "-a----        25-03-2025     13:33            589 batchApi.js\n",
      "-a----        20-03-2025     10:50           3674 courseApi.js\n",
      "-a----        17-03-2025     00:41           1198 courseProgressApi.js\n",
      "-a----        16-03-2025     14:49           1017 purchaseApi.js\n",
      "-a----        24-03-2025     17:27            710 zoomApi.js\n",
      "\n",
      "\n",
      "Directory: D:\\lms\\client\\src\\layout\n",
      "\n",
      "\n",
      "Mode                 LastWriteTime         Length Name\n",
      "----                 -------------         ------ ----\n",
      "-a----        27-03-2025     11:01            468 AdminLayout.jsx\n",
      "-a----        26-03-2025     19:35            534 MainLayout.jsx\n",
      "\n",
      "\n",
      "Directory: D:\\lms\\client\\src\\lib\n",
      "\n",
      "\n",
      "Mode                 LastWriteTime         Length Name\n",
      "----                 -------------         ------ ----\n",
      "-a----        28-01-2025     16:42            143 utils.js\n",
      "\n",
      "\n",
      "Directory: D:\\lms\\client\\src\\pages\n",
      "\n",
      "\n",
      "Mode                 LastWriteTime         Length Name\n",
      "----                 -------------         ------ ----\n",
      "d-----        26-03-2025     17:25                admin\n",
      "d-----        18-03-2025     11:03                student\n",
      "-a----        27-03-2025     11:30            828 AdminDashboard.jsx\n",
      "-a----        22-03-2025     01:04           7396 Login.jsx\n",
      "\n",
      "\n",
      "Directory: D:\\lms\\client\\src\\pages\\admin\n",
      "\n",
      "\n",
      "Mode                 LastWriteTime         Length Name\n",
      "----                 -------------         ------ ----\n",
      "d-----        27-03-2025     10:51                batch\n",
      "d-----        12-02-2025     16:23                course\n",
      "d-----        26-03-2025     13:32                instructor\n",
      "d-----        22-02-2025     13:09                lecture\n",
      "d-----        26-03-2025     13:34                student\n",
      "-a----        27-03-2025     11:38            649 Admin.jsx\n",
      "-a----        27-03-2025     11:38           3056 Dashboard.jsx\n",
      "-a----        26-03-2025     19:18           2481 Sidebar.jsx\n",
      "\n",
      "\n",
      "Directory: D:\\lms\\client\\src\\pages\\admin\\batch\n",
      "\n",
      "\n",
      "Mode                 LastWriteTime         Length Name\n",
      "----                 -------------         ------ ----\n",
      "-a----        26-03-2025     11:47           3153 AddBatch.jsx\n",
      "-a----        26-03-2025     11:50           2765 BatchManagement.jsx\n",
      "-a----        27-03-2025     10:52            224 BatchTable.jsx\n",
      "-a----        26-03-2025     13:26           3789 EditBatch.jsx\n",
      "-a----        25-03-2025     12:59            874 ManageBatches.jsx\n",
      "\n",
      "\n",
      "Directory: D:\\lms\\client\\src\\pages\\admin\\course\n",
      "\n",
      "\n",
      "Mode                 LastWriteTime         Length Name\n",
      "----                 -------------         ------ ----\n",
      "-a----        20-02-2025     14:50           6244 AddCourse.jsx\n",
      "-a----        17-03-2025     17:49          13184 CourseTab.jsx\n",
      "-a----        04-03-2025     20:14           3123 CourseTable.jsx\n",
      "-a----        20-02-2025     13:53            802 EditCourse.jsx\n",
      "\n",
      "\n",
      "Directory: D:\\lms\\client\\src\\pages\\admin\\instructor\n",
      "\n",
      "\n",
      "Mode                 LastWriteTime         Length Name\n",
      "----                 -------------         ------ ----\n",
      "-a----        26-03-2025     16:50           3187 AddInstructor.jsx\n",
      "-a----        26-03-2025     16:50           2996 EditInstructor.jsx\n",
      "-a----        26-03-2025     16:51           3710 InstructorManagement.jsx\n",
      "\n",
      "\n",
      "Directory: D:\\lms\\client\\src\\pages\\admin\\lecture\n",
      "\n",
      "\n",
      "Mode                 LastWriteTime         Length Name\n",
      "----                 -------------         ------ ----\n",
      "-a----        24-03-2025     17:36           6515 CreateLecture.jsx\n",
      "-a----        24-02-2025     16:56            990 EditLecture.jsx\n",
      "-a----        22-02-2025     13:05            800 Lecture.jsx\n",
      "-a----        08-03-2025     20:27           6746 LectureTab.jsx\n",
      "\n",
      "\n",
      "Directory: D:\\lms\\client\\src\\pages\\admin\\student\n",
      "\n",
      "\n",
      "Mode                 LastWriteTime         Length Name\n",
      "----                 -------------         ------ ----\n",
      "-a----        26-03-2025     16:53           3129 AddStudent.jsx\n",
      "-a----        26-03-2025     16:53           2926 EditStudent.jsx\n",
      "-a----        26-03-2025     16:53           1996 StudentManagement.jsx\n",
      "\n",
      "\n",
      "Directory: D:\\lms\\client\\src\\pages\\student\n",
      "\n",
      "\n",
      "Mode                 LastWriteTime         Length Name\n",
      "----                 -------------         ------ ----\n",
      "-a----        22-03-2025     11:36           2227 Course.jsx\n",
      "-a----        22-03-2025     11:37           4386 CourseDetail.jsx\n",
      "-a----        23-03-2025     13:00           6188 CourseProgress.jsx\n",
      "-a----        22-03-2025     10:42           1717 Courses.jsx\n",
      "-a----        20-03-2025     17:26           3913 Filter.jsx\n",
      "-a----        20-03-2025     17:09           2301 HeroSection.jsx\n",
      "-a----        24-03-2025     18:05           5123 MyLearning.jsx\n",
      "-a----        26-03-2025     16:45           6610 Profile.jsx\n",
      "-a----        22-03-2025     11:28           3299 SearchPage.jsx\n",
      "-a----        22-03-2025     10:47           1460 SearchResult.jsx\n",
      "\n",
      "\n",
      "Directory: D:\\lms\\client\\src\\services\n",
      "\n",
      "\n",
      "Mode                 LastWriteTime         Length Name\n",
      "----                 -------------         ------ ----\n",
      "-a----        26-03-2025     11:55           2079 batchService.js\n",
      "\n",
      "\n"
     ]
    }
   ],
   "source": [
    "file_path='D:/lms/client/frontend.txt'\n",
    "\n",
    "for line in read_large_file(file_path):\n",
    "    print(line.strip())"
   ]
  },
  {
   "cell_type": "markdown",
   "metadata": {},
   "source": [
    "#### Conclusion\n",
    "\n",
    "Iterators and generators are powerful tools in Python for creating and handling sequences of data efficiently. Iterators provide a way to access elements sequentially, while generators allow you to generate items on the fly, making them particularly useful for handling large datasets and infinite sequences. Understanding these concepts will enable you to write more efficient and memory-conscious Python programs.\n"
   ]
  },
  {
   "cell_type": "code",
   "execution_count": null,
   "metadata": {},
   "outputs": [],
   "source": []
  }
 ],
 "metadata": {
  "kernelspec": {
   "display_name": "Python 3",
   "language": "python",
   "name": "python3"
  },
  "language_info": {
   "codemirror_mode": {
    "name": "ipython",
    "version": 3
   },
   "file_extension": ".py",
   "mimetype": "text/x-python",
   "name": "python",
   "nbconvert_exporter": "python",
   "pygments_lexer": "ipython3",
   "version": "3.10.0"
  }
 },
 "nbformat": 4,
 "nbformat_minor": 2
}
