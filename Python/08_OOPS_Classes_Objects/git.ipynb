{
 "cells": [
  {
   "cell_type": "markdown",
   "id": "962ce692",
   "metadata": {},
   "source": [
    "Ist step --> Create a github account because in order to push your code file you need to have this account."
   ]
  },
  {
   "cell_type": "markdown",
   "id": "07dc96e9",
   "metadata": {},
   "source": [
    "## (https://github.com)"
   ]
  },
  {
   "cell_type": "markdown",
   "id": "42063d0a",
   "metadata": {},
   "source": [
    "Then doenload -- git bash ---- from here ---> \n",
    "\n",
    "\n",
    "### https://git-scm.com/downloads\n",
    "\n",
    "\n",
    "Install It simply click next....next....next and so on."
   ]
  },
  {
   "cell_type": "markdown",
   "id": "5e2bcc37",
   "metadata": {},
   "source": [
    "step - 3\n",
    "\n",
    "\n",
    "\n",
    "link your github with this pc using these commands in your git bash\n",
    "\n",
    "git config --global user.name \"User_name_from_github.com\"\n",
    "\n",
    "git config --global user.email \"email_used_to_create_account_on_github.com\"\n",
    "\n",
    "### Check it twice code it once."
   ]
  },
  {
   "cell_type": "markdown",
   "id": "3d9a41b6",
   "metadata": {},
   "source": [
    "### Move to desired folder and watch this video from  begining"
   ]
  },
  {
   "cell_type": "markdown",
   "id": "6506e41f",
   "metadata": {},
   "source": []
  }
 ],
 "metadata": {
  "kernelspec": {
   "display_name": "Python 3",
   "language": "python",
   "name": "python3"
  },
  "language_info": {
   "name": "python",
   "version": "3.12.0"
  }
 },
 "nbformat": 4,
 "nbformat_minor": 5
}
