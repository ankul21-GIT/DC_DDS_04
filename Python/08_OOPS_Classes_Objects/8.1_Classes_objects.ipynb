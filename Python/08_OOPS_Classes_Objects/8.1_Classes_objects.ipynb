{
 "cells": [
  {
   "cell_type": "code",
   "execution_count": 7,
   "id": "45f93f7d",
   "metadata": {},
   "outputs": [],
   "source": [
    "class My_first_class:\n",
    "    x = \"Abhi\"\n",
    "    a = 10"
   ]
  },
  {
   "cell_type": "code",
   "execution_count": 3,
   "id": "a29b1de5",
   "metadata": {},
   "outputs": [
    {
     "data": {
      "text/plain": [
       "type"
      ]
     },
     "execution_count": 3,
     "metadata": {},
     "output_type": "execute_result"
    }
   ],
   "source": [
    "type(My_first_class)"
   ]
  },
  {
   "cell_type": "code",
   "execution_count": 8,
   "id": "d74459a0",
   "metadata": {},
   "outputs": [],
   "source": [
    "my_obj = My_first_class()"
   ]
  },
  {
   "cell_type": "code",
   "execution_count": 6,
   "id": "2f6d9c18",
   "metadata": {},
   "outputs": [
    {
     "data": {
      "text/plain": [
       "'Abhi'"
      ]
     },
     "execution_count": 6,
     "metadata": {},
     "output_type": "execute_result"
    }
   ],
   "source": [
    "my_obj.x"
   ]
  },
  {
   "cell_type": "code",
   "execution_count": 9,
   "id": "ab0005ca",
   "metadata": {},
   "outputs": [
    {
     "data": {
      "text/plain": [
       "10"
      ]
     },
     "execution_count": 9,
     "metadata": {},
     "output_type": "execute_result"
    }
   ],
   "source": [
    "my_obj.a"
   ]
  },
  {
   "cell_type": "code",
   "execution_count": null,
   "id": "b2557fbc",
   "metadata": {},
   "outputs": [],
   "source": []
  }
 ],
 "metadata": {
  "kernelspec": {
   "display_name": "Python 3",
   "language": "python",
   "name": "python3"
  },
  "language_info": {
   "codemirror_mode": {
    "name": "ipython",
    "version": 3
   },
   "file_extension": ".py",
   "mimetype": "text/x-python",
   "name": "python",
   "nbconvert_exporter": "python",
   "pygments_lexer": "ipython3",
   "version": "3.12.0"
  }
 },
 "nbformat": 4,
 "nbformat_minor": 5
}
