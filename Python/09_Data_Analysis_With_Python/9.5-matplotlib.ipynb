{
 "cells": [
  {
   "cell_type": "markdown",
   "metadata": {},
   "source": [
    "#### Data Visualization With Matplotlib\n",
    "\n",
    "Matplotlib is a powerful plotting library for Python that enables the creation of static, animated, and interactive visualizations. It is widely used for data visualization in data science and analytics. In this lesson, we will cover the basics of Matplotlib, including creating various types of plots and customizing them.\n"
   ]
  },
  {
   "cell_type": "code",
   "execution_count": null,
   "metadata": {},
   "outputs": [],
   "source": [
    "!pip install matplotlib"
   ]
  },
  {
   "cell_type": "code",
   "execution_count": null,
   "metadata": {},
   "outputs": [],
   "source": [
    "import matplotlib.pyplot as plt"
   ]
  },
  {
   "cell_type": "code",
   "execution_count": null,
   "metadata": {},
   "outputs": [],
   "source": [
    "x=[1,2,3,4,5]\n",
    "y=[1,4,9,16,25]\n",
    "\n",
    "##create a line plot\n",
    "\n",
    "plt.plot(x,y)\n",
    "plt.xlabel(\"X axis\")\n",
    "plt.ylabel(\"Y axis\")\n",
    "plt.title(\"Basic line plot\")\n",
    "plt.show()\n",
    "\n",
    "\n",
    "# plt.plot(x,y)\n",
    "# plt.xlabel('X axis')\n",
    "# plt.ylabel('Y Axis')\n",
    "# plt.title(\"Basic Line Plot\")\n",
    "# plt.show()"
   ]
  },
  {
   "cell_type": "code",
   "execution_count": null,
   "metadata": {},
   "outputs": [],
   "source": [
    "x=[1,2,3,4,5]\n",
    "y=[1,4,9,16,25]\n",
    "\n",
    "##create a customized line plot\n",
    "\n",
    "plt.plot(x,y,color='red',linestyle='dashdot',marker='o',linewidth=3,markersize=9)\n",
    "plt.grid(True)\n",
    "plt.xlabel(\"X axis\")\n",
    "plt.ylabel(\"Y axis\")\n",
    "plt.title(\"Basic line plot\")\n",
    "plt.show()\n"
   ]
  },
  {
   "cell_type": "code",
   "execution_count": null,
   "metadata": {},
   "outputs": [],
   "source": [
    "## Multiple Plots\n",
    "## Sample data\n",
    "x = [1, 2, 3, 4, 5]\n",
    "y1 = [1, 4, 9, 16, 25]\n",
    "y2 = [1, 2, 3, 4, 5]\n",
    "\n",
    "\n",
    "# figure(figsize=(WIDTH_SIZE,HEIGHT_SIZE))\n",
    "plt.figure(figsize=(9,5))\n",
    "\n",
    "plt.subplot(2,2,1)\n",
    "plt.plot(x,y1,color='green')\n",
    "plt.title(\"Plot 1\")\n",
    "\n",
    "plt.subplot(2,2,2)\n",
    "plt.plot(y1,x,color='red')\n",
    "plt.title(\"Plot 2\")\n",
    "\n",
    "plt.subplot(2,2,3)\n",
    "plt.plot(x,y2,color='blue')\n",
    "plt.title(\"Plot 3\")\n",
    "\n",
    "plt.subplot(2,2,4)\n",
    "plt.plot(x,y2,color='green')\n",
    "plt.title(\"Plot 4\")\n"
   ]
  },
  {
   "cell_type": "code",
   "execution_count": null,
   "metadata": {},
   "outputs": [],
   "source": [
    "###Bar Plor\n",
    "categories=['A','B','C','D','E']\n",
    "values=[5,7,3,8,6]\n",
    "\n",
    "##create a bar plot\n",
    "plt.bar(categories,values,color='orange')\n",
    "plt.xlabel('Categories')\n",
    "plt.ylabel('Values')\n",
    "plt.title('Bar Plot')\n",
    "plt.show()\n"
   ]
  },
  {
   "cell_type": "markdown",
   "metadata": {},
   "source": [
    "#### Histograms\n",
    "\n",
    "Histograms are used to represent the distribution of a dataset. They divide the data into bins and count the number of data points in each bin.\n"
   ]
  },
  {
   "cell_type": "code",
   "execution_count": null,
   "metadata": {},
   "outputs": [],
   "source": [
    "# Sample data\n",
    "data = [1, 2, 2, 3, 3, 3, 4, 4, 4, 4, 5, 5, 5, 5, 5]\n",
    "\n",
    "##create a histogram\n",
    "plt.hist(data,bins=5,color='orange',edgecolor='black')"
   ]
  },
  {
   "cell_type": "code",
   "execution_count": null,
   "metadata": {},
   "outputs": [],
   "source": [
    "# https://matplotlib.org/stable/plot_types/index"
   ]
  },
  {
   "cell_type": "code",
   "execution_count": null,
   "metadata": {},
   "outputs": [],
   "source": [
    "import matplotlib.pyplot as plt\n",
    "import numpy as np\n",
    "\n",
    "from matplotlib.patches import Rectangle\n",
    "\n",
    "fig, ax = plt.subplots(figsize=(6.5, 1.65), layout='constrained')\n",
    "ax.add_patch(Rectangle((-0.2, -0.35), 11.2, 0.7, color='C1', alpha=0.8))\n",
    "for i, alpha in enumerate(np.linspace(0, 1, 11)):\n",
    "    ax.add_patch(Rectangle((i, 0.05), 0.8, 0.6, alpha=alpha, zorder=0))\n",
    "    ax.text(i+0.4, 0.85, f\"{alpha:.1f}\", ha='center')\n",
    "    ax.add_patch(Rectangle((i, -0.05), 0.8, -0.6, alpha=alpha, zorder=2))\n",
    "ax.set_xlim(-0.2, 13)\n",
    "ax.set_ylim(-1, 1)\n",
    "ax.set_title('alpha values')\n",
    "ax.text(11.3, 0.6, 'zorder=1', va='center', color='C0')\n",
    "ax.text(11.3, 0, 'zorder=2\\nalpha=0.8', va='center', color='C1')\n",
    "ax.text(11.3, -0.6, 'zorder=3', va='center', color='C0')\n",
    "ax.axis('off')"
   ]
  },
  {
   "cell_type": "code",
   "execution_count": null,
   "metadata": {},
   "outputs": [],
   "source": [
    "##create a scatter plot\n",
    "# Sample data\n",
    "x = [1, 2, 3, 4, 5]\n",
    "y = [2, 3, 4, 5, 6]\n",
    "\n",
    "plt.scatter(x,y,color=\"blue\",marker='x')\n",
    "\n",
    "\n",
    "# Add data point labels\n",
    "for i in range(len(x)):\n",
    "    plt.text(x[i], y[i], f'({x[i]}, {y[i]})', \n",
    "             ha='center',  # horizontal alignment\n",
    "             va='bottom',  # vertical alignment\n",
    "             fontsize=8)\n",
    "\n",
    "# Add labels and title\n",
    "plt.xlabel('X-axis')\n",
    "plt.ylabel('Y-axis')\n",
    "plt.title('Scatter Plot with Data Points')\n",
    "\n",
    "# Display the plot\n",
    "plt.show()"
   ]
  },
  {
   "cell_type": "markdown",
   "metadata": {},
   "source": [
    "labels=labels,\n",
    ",autopct=\"%1.1f%%\"\n"
   ]
  },
  {
   "cell_type": "code",
   "execution_count": null,
   "metadata": {},
   "outputs": [],
   "source": [
    "### pie chart\n",
    "\n",
    "labels=['A','B','C','D']\n",
    "sizes=[30,20,40,10]\n",
    "colors=['gold','yellowgreen','lightcoral','lightskyblue']\n",
    "explode=(0.2,0,0,0) ##move out the 1st slice\n",
    "\n",
    "##create apie chart\n",
    "plt.pie(sizes,explode=explode,labels=labels,colors=colors,autopct=\"%1.1f%%\",shadow=True)"
   ]
  },
  {
   "cell_type": "code",
   "execution_count": null,
   "metadata": {},
   "outputs": [],
   "source": [
    "## Sales Data Visualization\n",
    "import pandas as pd\n",
    "sales_data_df=pd.read_csv('sales_data.csv')\n",
    "sales_data_df.head(5)"
   ]
  },
  {
   "cell_type": "code",
   "execution_count": null,
   "metadata": {},
   "outputs": [],
   "source": [
    "sales_data_df.info()"
   ]
  },
  {
   "cell_type": "code",
   "execution_count": null,
   "metadata": {},
   "outputs": [],
   "source": [
    "## plot total sales by products\n",
    "total_sales_by_product=sales_data_df.groupby('Product Category')['Total Revenue'].sum()\n",
    "print(total_sales_by_product)"
   ]
  },
  {
   "cell_type": "code",
   "execution_count": null,
   "metadata": {},
   "outputs": [],
   "source": [
    "total_sales_by_product.plot(kind='bar',color='teal')"
   ]
  },
  {
   "cell_type": "code",
   "execution_count": null,
   "metadata": {},
   "outputs": [],
   "source": [
    "## plot sales trend over time\n",
    "sales_trend=sales_data_df.groupby('Date')['Total Revenue'].sum().reset_index()\n",
    "plt.plot(sales_trend['Date'],sales_trend['Total Revenue'])"
   ]
  },
  {
   "cell_type": "code",
   "execution_count": null,
   "metadata": {},
   "outputs": [],
   "source": []
  },
  {
   "cell_type": "code",
   "execution_count": null,
   "metadata": {},
   "outputs": [],
   "source": []
  }
 ],
 "metadata": {
  "kernelspec": {
   "display_name": "Python 3",
   "language": "python",
   "name": "python3"
  },
  "language_info": {
   "codemirror_mode": {
    "name": "ipython",
    "version": 3
   },
   "file_extension": ".py",
   "mimetype": "text/x-python",
   "name": "python",
   "nbconvert_exporter": "python",
   "pygments_lexer": "ipython3",
   "version": "3.12.0"
  }
 },
 "nbformat": 4,
 "nbformat_minor": 2
}
